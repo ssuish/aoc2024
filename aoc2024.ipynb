{
 "cells": [
  {
   "cell_type": "markdown",
   "metadata": {},
   "source": [
    "# Advent of Code 2024\n",
    "---\n",
    "\n",
    "Link: https://adventofcode.com/2024\n",
    "\n",
    "**Goal**\n",
    "- [ ] Solve 15 questions. \n",
    "- [ ] Analyze and explain each solution.\n",
    "- [ ] Try to make the algorithms efficient."
   ]
  }
 ],
 "metadata": {
  "language_info": {
   "name": "python"
  }
 },
 "nbformat": 4,
 "nbformat_minor": 2
}
