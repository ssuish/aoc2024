{
 "cells": [
  {
   "cell_type": "markdown",
   "metadata": {},
   "source": [
    "# Advent of Code 2024\n",
    "---\n",
    "\n",
    "Link: https://adventofcode.com/2024\n",
    "\n",
    "**Goal**\n",
    "- [ ] Solve 15 questions. \n",
    "- [ ] Analyze and explain each solution.\n",
    "- [ ] Try to make the algorithms efficient."
   ]
  },
  {
   "cell_type": "markdown",
   "metadata": {},
   "source": [
    "## Day 1: Historian Hysteria\n",
    "\n",
    "**Problem**\n",
    "- [ ] Pair up the smallest the number in the left list with the smallest number in the right list, up the largest.\n",
    "- [ ] Find the distance between the each paired numbers.\n",
    "- [ ] Add all the distances to find the **Total Distance** between the two list. "
   ]
  },
  {
   "cell_type": "code",
   "execution_count": null,
   "metadata": {},
   "outputs": [
    {
     "name": "stdout",
     "output_type": "stream",
     "text": [
      "3   4\n",
      "4   3\n",
      "2   5\n",
      "1   3\n",
      "3   9\n",
      "3   3\n"
     ]
    }
   ],
   "source": [
    "# Input data from a file\n",
    "import sys\n",
    "\n",
    "# Redirect standard input to read from the file\n",
    "path = 'input/day1.txt'\n",
    "sys.stdin = open(path, 'r')\n",
    "\n",
    "# Read from standard input\n",
    "data = sys.stdin.readlines()\n",
    "\n",
    "# Close the file\n",
    "sys.stdin.close()"
   ]
  },
  {
   "cell_type": "code",
   "execution_count": null,
   "metadata": {},
   "outputs": [
    {
     "ename": "NameError",
     "evalue": "name 'data' is not defined",
     "output_type": "error",
     "traceback": [
      "\u001b[1;31m---------------------------------------------------------------------------\u001b[0m",
      "\u001b[1;31mNameError\u001b[0m                                 Traceback (most recent call last)",
      "Cell \u001b[1;32mIn[2], line 3\u001b[0m\n\u001b[0;32m      1\u001b[0m \u001b[38;5;66;03m# Process the input\u001b[39;00m\n\u001b[0;32m      2\u001b[0m \u001b[38;5;66;03m# Assuming the input is a single line of space-separated integers\u001b[39;00m\n\u001b[1;32m----> 3\u001b[0m numbers \u001b[38;5;241m=\u001b[39m \u001b[38;5;28mlist\u001b[39m(\u001b[38;5;28mmap\u001b[39m(\u001b[38;5;28mint\u001b[39m, data\u001b[38;5;241m.\u001b[39msplit()))\n\u001b[0;32m      5\u001b[0m \u001b[38;5;66;03m# Sort the numbers\u001b[39;00m\n\u001b[0;32m      6\u001b[0m sorted_numbers \u001b[38;5;241m=\u001b[39m \u001b[38;5;28msorted\u001b[39m(numbers)\n",
      "\u001b[1;31mNameError\u001b[0m: name 'data' is not defined"
     ]
    }
   ],
   "source": [
    "# Process the input\n",
    "numbers = list(map(int, data.split()))\n",
    "\n",
    "# Sort the numbers\n",
    "sorted_numbers = sorted(numbers)\n",
    "\n",
    "# Output the result\n",
    "print(\"Sorted numbers:\", sorted_numbers)"
   ]
  }
 ],
 "metadata": {
  "kernelspec": {
   "display_name": "anaconda3",
   "language": "python",
   "name": "python3"
  },
  "language_info": {
   "codemirror_mode": {
    "name": "ipython",
    "version": 3
   },
   "file_extension": ".py",
   "mimetype": "text/x-python",
   "name": "python",
   "nbconvert_exporter": "python",
   "pygments_lexer": "ipython3",
   "version": "3.12.7"
  }
 },
 "nbformat": 4,
 "nbformat_minor": 2
}
