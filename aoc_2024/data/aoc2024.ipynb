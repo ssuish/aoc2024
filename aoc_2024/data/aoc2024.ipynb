{
 "cells": [
  {
   "cell_type": "markdown",
   "metadata": {},
   "source": [
    "# Advent of Code 2024\n",
    "---\n",
    "\n",
    "Link: https://adventofcode.com/2024\n",
    "\n",
    "**Goal**\n",
    "- [ ] Solve 15 questions. \n",
    "- [ ] Analyze and explain each solution.\n",
    "- [ ] Try to make the algorithms efficient."
   ]
  },
  {
   "cell_type": "code",
   "execution_count": null,
   "metadata": {},
   "outputs": [],
   "source": []
  },
  {
   "cell_type": "markdown",
   "metadata": {},
   "source": [
    "## Day 1: Historian Hysteria\n",
    "\n",
    "**Problem**\n",
    "\n",
    "- Pair up the smallest the number in the left list with the smallest number in the right list, up the largest.\n",
    "- Find the distance between the each paired numbers.\n",
    "- Add all the distances to find the **Total Distance** between the two list. "
   ]
  },
  {
   "cell_type": "code",
   "execution_count": 369,
   "metadata": {},
   "outputs": [],
   "source": [
    "# Input data from a file\n",
    "import sys\n",
    "\n",
    "# Redirect standard input to read from the file\n",
    "path = 'input/day1.txt'\n",
    "sys.stdin = open(path, 'r')\n",
    "\n",
    "# Read from standard input\n",
    "data = sys.stdin.readlines()\n",
    "\n",
    "# Close the file\n",
    "sys.stdin.close()"
   ]
  },
  {
   "cell_type": "code",
   "execution_count": 370,
   "metadata": {},
   "outputs": [],
   "source": [
    "# Parsing the input data into two lists as required\n",
    "list_A = []\n",
    "list_B = []\n",
    "\n",
    "for line in data:\n",
    "    a, b = line.strip().split()\n",
    "    list_A.append(int(a))\n",
    "    list_B.append(int(b))"
   ]
  },
  {
   "cell_type": "code",
   "execution_count": 371,
   "metadata": {},
   "outputs": [
    {
     "data": {
      "text/plain": [
       "'\\ndistance = 0\\nlist_A.sort()\\nlist_B.sort()\\n\\nwhile (len(list_A) > 0) and (len(list_B) > 0):\\n    a = min(list_A)\\n    b = min(list_B)\\n\\n    distance += abs(a - b)\\n\\n    list_A.remove(a)\\n    list_B.remove(b)\\n    \\nprint(distance)\\n'"
      ]
     },
     "execution_count": 371,
     "metadata": {},
     "output_type": "execute_result"
    }
   ],
   "source": [
    "# Day 1 Problem Solution Part 1\n",
    "\"\"\"\n",
    "distance = 0\n",
    "list_A.sort()\n",
    "list_B.sort()\n",
    "\n",
    "while (len(list_A) > 0) and (len(list_B) > 0):\n",
    "    a = min(list_A)\n",
    "    b = min(list_B)\n",
    "\n",
    "    distance += abs(a - b)\n",
    "\n",
    "    list_A.remove(a)\n",
    "    list_B.remove(b)\n",
    "    \n",
    "print(distance)\n",
    "\"\"\""
   ]
  },
  {
   "cell_type": "code",
   "execution_count": null,
   "metadata": {},
   "outputs": [
    {
     "ename": "TypeError",
     "evalue": "'str' object cannot be interpreted as an integer",
     "output_type": "error",
     "traceback": [
      "\u001b[1;31m---------------------------------------------------------------------------\u001b[0m",
      "\u001b[1;31mTypeError\u001b[0m                                 Traceback (most recent call last)",
      "Cell \u001b[1;32mIn[3], line 9\u001b[0m\n\u001b[0;32m      6\u001b[0m a \u001b[38;5;241m=\u001b[39m \u001b[38;5;124m\"\u001b[39m\u001b[38;5;124m\"\u001b[39m\n\u001b[0;32m      7\u001b[0m b \u001b[38;5;241m=\u001b[39m \u001b[38;5;124m\"\u001b[39m\u001b[38;5;124m\"\u001b[39m\n\u001b[1;32m----> 9\u001b[0m \u001b[38;5;28;01mfor\u001b[39;00m i \u001b[38;5;129;01min\u001b[39;00m \u001b[38;5;28mrange\u001b[39m(test):\n\u001b[0;32m     10\u001b[0m     a \u001b[38;5;241m=\u001b[39m test[i]\n\u001b[0;32m     11\u001b[0m     b \u001b[38;5;241m=\u001b[39m test[\u001b[38;5;28mrange\u001b[39m(test) \u001b[38;5;241m-\u001b[39m \u001b[38;5;241m1\u001b[39m]\n",
      "\u001b[1;31mTypeError\u001b[0m: 'str' object cannot be interpreted as an integer"
     ]
    }
   ],
   "source": [
    "# test exam\n",
    "\n",
    "test = \"131\"\n",
    "\n",
    "# palindrome or not\n",
    "a = \"\"\n",
    "b = \"\"\n",
    "\n",
    "for i in range(test):\n",
    "    a = test[i]\n",
    "    b = test[range(test) - 1]\n",
    "    "
   ]
  },
  {
   "cell_type": "code",
   "execution_count": 372,
   "metadata": {},
   "outputs": [
    {
     "name": "stdout",
     "output_type": "stream",
     "text": [
      "1 3 0\n",
      "2 3 0\n",
      "3 3 0\n",
      "3 4 0\n",
      "3 5 0\n",
      "4 9 0\n",
      "{1: 0, 2: 0, 3: 0, 4: 0}\n"
     ]
    }
   ],
   "source": [
    "# Day 1 Problem Solution Part 2\n",
    "\n",
    "list_A.sort()\n",
    "list_B.sort()\n",
    "similarity_map = {}\n",
    "i = 0\n",
    "j = 0\n",
    "similarities = 0\n",
    "\n",
    "while (i < len(list_A)) and (j < len(list_B)):\n",
    "    a = list_A[i]\n",
    "    b = list_B[j]\n",
    "    \n",
    "    if (similarity_map.get(a) == b or similarity_map.get(b) == a):\n",
    "        similarities += 1\n",
    "        i += 1\n",
    "        j += 1\n",
    "    \n",
    "    i += 1\n",
    "    j += 1\n",
    "    \n",
    "    similarity_map[a] = similarities\n",
    "    print(a, b, similarities)\n",
    "\n",
    "print(similarity_map)"
   ]
  }
 ],
 "metadata": {
  "kernelspec": {
   "display_name": "base",
   "language": "python",
   "name": "python3"
  },
  "language_info": {
   "codemirror_mode": {
    "name": "ipython",
    "version": 3
   },
   "file_extension": ".py",
   "mimetype": "text/x-python",
   "name": "python",
   "nbconvert_exporter": "python",
   "pygments_lexer": "ipython3",
   "version": "3.12.7"
  }
 },
 "nbformat": 4,
 "nbformat_minor": 2
}
